{
  "nbformat": 4,
  "nbformat_minor": 0,
  "metadata": {
    "colab": {
      "name": "Phase2_1.ipynb",
      "provenance": [],
      "authorship_tag": "ABX9TyPdUf1SRHHMHn6zVuf+z+hv",
      "include_colab_link": true
    },
    "kernelspec": {
      "name": "python3",
      "display_name": "Python 3"
    },
    "accelerator": "GPU"
  },
  "cells": [
    {
      "cell_type": "markdown",
      "metadata": {
        "id": "view-in-github",
        "colab_type": "text"
      },
      "source": [
        "<a href=\"https://colab.research.google.com/github/chirag2saraiya/phase2_nlp_1/blob/master/Phase2_1.ipynb\" target=\"_parent\"><img src=\"https://colab.research.google.com/assets/colab-badge.svg\" alt=\"Open In Colab\"/></a>"
      ]
    },
    {
      "cell_type": "code",
      "metadata": {
        "id": "8D-DPsorcB4M",
        "colab_type": "code",
        "colab": {
          "base_uri": "https://localhost:8080/",
          "height": 122
        },
        "outputId": "6764a4f7-cb93-4f6c-c480-b7f7af022769"
      },
      "source": [
        "from google.colab import drive\n",
        "drive.mount('/content/drive')"
      ],
      "execution_count": 1,
      "outputs": [
        {
          "output_type": "stream",
          "text": [
            "Go to this URL in a browser: https://accounts.google.com/o/oauth2/auth?client_id=947318989803-6bn6qk8qdgf4n4g3pfee6491hc0brc4i.apps.googleusercontent.com&redirect_uri=urn%3aietf%3awg%3aoauth%3a2.0%3aoob&response_type=code&scope=email%20https%3a%2f%2fwww.googleapis.com%2fauth%2fdocs.test%20https%3a%2f%2fwww.googleapis.com%2fauth%2fdrive%20https%3a%2f%2fwww.googleapis.com%2fauth%2fdrive.photos.readonly%20https%3a%2f%2fwww.googleapis.com%2fauth%2fpeopleapi.readonly\n",
            "\n",
            "Enter your authorization code:\n",
            "··········\n",
            "Mounted at /content/drive\n"
          ],
          "name": "stdout"
        }
      ]
    },
    {
      "cell_type": "code",
      "metadata": {
        "id": "WdPq3wPScM5h",
        "colab_type": "code",
        "colab": {}
      },
      "source": [
        "!cp /content/drive/'My Drive'/aclImdb.zip /content"
      ],
      "execution_count": 0,
      "outputs": []
    },
    {
      "cell_type": "code",
      "metadata": {
        "id": "PZpFqO_1cnX8",
        "colab_type": "code",
        "colab": {}
      },
      "source": [
        "!unzip /content/aclImdb.zip"
      ],
      "execution_count": 0,
      "outputs": []
    },
    {
      "cell_type": "code",
      "metadata": {
        "id": "mpHRACTGdioS",
        "colab_type": "code",
        "colab": {}
      },
      "source": [
        "#Processing the labels of the raw IMDB data\n",
        "import os\n",
        "imdb_dir = '/content/aclImdb'\n",
        "train_dir = os.path.join(imdb_dir, 'train')\n",
        "labels = []\n",
        "texts = []\n",
        "for label_type in ['neg', 'pos']:\n",
        "  dir_name = os.path.join(train_dir, label_type)\n",
        "  for fname in os.listdir(dir_name):\n",
        "    if fname[-4:] == '.txt':\n",
        "      f = open(os.path.join(dir_name, fname))\n",
        "      texts.append(f.read())\n",
        "      f.close()\n",
        "      if label_type == 'neg':\n",
        "        labels.append(0)\n",
        "      else:\n",
        "        labels.append(1)"
      ],
      "execution_count": 0,
      "outputs": []
    },
    {
      "cell_type": "code",
      "metadata": {
        "id": "Qpml5zdjeyqh",
        "colab_type": "code",
        "colab": {
          "base_uri": "https://localhost:8080/",
          "height": 51
        },
        "outputId": "00f7130f-eed4-4908-9d53-97166d9ffac4"
      },
      "source": [
        "print(len(labels))\n",
        "print(len(texts))"
      ],
      "execution_count": 5,
      "outputs": [
        {
          "output_type": "stream",
          "text": [
            "25000\n",
            "25000\n"
          ],
          "name": "stdout"
        }
      ]
    },
    {
      "cell_type": "code",
      "metadata": {
        "id": "i5Dqh2F_rzqB",
        "colab_type": "code",
        "colab": {
          "base_uri": "https://localhost:8080/",
          "height": 131
        },
        "outputId": "db563e76-8874-4260-bc61-e1623afbbe33"
      },
      "source": [
        "#Tokenizing the text of the raw IMDB data\n",
        "from keras.preprocessing.text import Tokenizer\n",
        "from keras.preprocessing.sequence import pad_sequences\n",
        "import numpy as np\n",
        "#Cuts off reviews after 100 words\n",
        "maxlen = 100\n",
        "#Trains on 8000 samples\n",
        "training_samples = 8000\n",
        "#Validates on 10,000 samples\n",
        "validation_samples = 10000\n",
        "#Considers only the top 10,000 words in the dataset\n",
        "max_words = 10000\n",
        "\n",
        "tokenizer = Tokenizer(num_words=max_words)\n",
        "tokenizer.fit_on_texts(texts)\n",
        "sequences = tokenizer.texts_to_sequences(texts)\n",
        "\n",
        "word_index = tokenizer.word_index\n",
        "print('Found %s unique tokens.' % len(word_index))\n",
        "data = pad_sequences(sequences, maxlen=maxlen)\n",
        "labels = np.asarray(labels)\n",
        "print('Shape of data tensor:', data.shape)\n",
        "print('Shape of label tensor:', labels.shape)\n",
        "\n",
        "\"\"\"Splits the data into a training set and a validation set, \n",
        "but first shuffles the data, because you’re starting with data in which samples are ordered \n",
        "(all negative first, then all positive)\"\"\"\n",
        "indices = np.arange(data.shape[0])\n",
        "np.random.shuffle(indices)\n",
        "data = data[indices]\n",
        "labels = labels[indices]\n",
        "x_train = data[:training_samples]\n",
        "y_train = labels[:training_samples]\n",
        "x_val = data[training_samples: training_samples + validation_samples]\n",
        "y_val = labels[training_samples: training_samples + validation_samples]"
      ],
      "execution_count": 6,
      "outputs": [
        {
          "output_type": "stream",
          "text": [
            "Using TensorFlow backend.\n"
          ],
          "name": "stderr"
        },
        {
          "output_type": "display_data",
          "data": {
            "text/html": [
              "<p style=\"color: red;\">\n",
              "The default version of TensorFlow in Colab will soon switch to TensorFlow 2.x.<br>\n",
              "We recommend you <a href=\"https://www.tensorflow.org/guide/migrate\" target=\"_blank\">upgrade</a> now \n",
              "or ensure your notebook will continue to use TensorFlow 1.x via the <code>%tensorflow_version 1.x</code> magic:\n",
              "<a href=\"https://colab.research.google.com/notebooks/tensorflow_version.ipynb\" target=\"_blank\">more info</a>.</p>\n"
            ],
            "text/plain": [
              "<IPython.core.display.HTML object>"
            ]
          },
          "metadata": {
            "tags": []
          }
        },
        {
          "output_type": "stream",
          "text": [
            "Found 88582 unique tokens.\n",
            "Shape of data tensor: (25000, 100)\n",
            "Shape of label tensor: (25000,)\n"
          ],
          "name": "stdout"
        }
      ]
    },
    {
      "cell_type": "code",
      "metadata": {
        "id": "4lNrw01fzTG9",
        "colab_type": "code",
        "colab": {}
      },
      "source": [
        "!cp /content/drive/'My Drive'/glove.6B.zip /content/"
      ],
      "execution_count": 0,
      "outputs": []
    },
    {
      "cell_type": "code",
      "metadata": {
        "id": "O9di-NAYzgLJ",
        "colab_type": "code",
        "colab": {
          "base_uri": "https://localhost:8080/",
          "height": 102
        },
        "outputId": "57f0ed29-ecf4-4abb-c0f7-6b5687964ec1"
      },
      "source": [
        "!unzip /content/glove.6B.zip"
      ],
      "execution_count": 8,
      "outputs": [
        {
          "output_type": "stream",
          "text": [
            "Archive:  /content/glove.6B.zip\n",
            "  inflating: glove.6B.50d.txt        \n",
            "  inflating: glove.6B.100d.txt       \n",
            "  inflating: glove.6B.200d.txt       \n",
            "  inflating: glove.6B.300d.txt       \n"
          ],
          "name": "stdout"
        }
      ]
    },
    {
      "cell_type": "code",
      "metadata": {
        "id": "u4uXLtej0FOu",
        "colab_type": "code",
        "colab": {}
      },
      "source": [
        "!mkdir glove.6B"
      ],
      "execution_count": 0,
      "outputs": []
    },
    {
      "cell_type": "code",
      "metadata": {
        "id": "Crjy-zxi0K7L",
        "colab_type": "code",
        "colab": {}
      },
      "source": [
        "!mv glove.6B.* /content/glove.6B"
      ],
      "execution_count": 0,
      "outputs": []
    },
    {
      "cell_type": "code",
      "metadata": {
        "id": "d8Owh3z6zx2u",
        "colab_type": "code",
        "colab": {
          "base_uri": "https://localhost:8080/",
          "height": 34
        },
        "outputId": "3e460df0-5d41-4b12-b402-f88f15b00bf3"
      },
      "source": [
        "#Parsing the GloVe word-embeddings file\n",
        "glove_dir = '/content/glove.6B'\n",
        "embeddings_index = {}\n",
        "f = open(os.path.join(glove_dir, 'glove.6B.100d.txt'))\n",
        "for line in f:\n",
        "  values = line.split()\n",
        "  word = values[0]\n",
        "  coefs = np.asarray(values[1:], dtype='float32')\n",
        "  embeddings_index[word] = coefs\n",
        "f.close()\n",
        "print('Found %s word vectors.' % len(embeddings_index))"
      ],
      "execution_count": 11,
      "outputs": [
        {
          "output_type": "stream",
          "text": [
            "Found 400000 word vectors.\n"
          ],
          "name": "stdout"
        }
      ]
    },
    {
      "cell_type": "code",
      "metadata": {
        "id": "BzPxTIlR0peJ",
        "colab_type": "code",
        "colab": {}
      },
      "source": [
        "#Preparing the GloVe word-embeddings matrix\n",
        "embedding_dim = 100\n",
        "embedding_matrix = np.zeros((max_words, embedding_dim))\n",
        "for word, i in word_index.items():\n",
        "  if i < max_words:\n",
        "    embedding_vector = embeddings_index.get(word)\n",
        "    if embedding_vector is not None:\n",
        "      embedding_matrix[i] = embedding_vector"
      ],
      "execution_count": 0,
      "outputs": []
    },
    {
      "cell_type": "code",
      "metadata": {
        "id": "5ocdzU7n0z3U",
        "colab_type": "code",
        "colab": {
          "base_uri": "https://localhost:8080/",
          "height": 411
        },
        "outputId": "098ccba8-5271-4d60-ca9c-030755bf6faf"
      },
      "source": [
        "#Model definition\n",
        "from keras.models import Sequential\n",
        "from keras.layers import Embedding, Flatten, Dense\n",
        "model = Sequential()\n",
        "model.add(Embedding(max_words, embedding_dim, input_length=maxlen))\n",
        "model.add(Flatten())\n",
        "model.add(Dense(32, activation='relu'))\n",
        "model.add(Dense(1, activation='sigmoid'))\n",
        "model.summary()"
      ],
      "execution_count": 13,
      "outputs": [
        {
          "output_type": "stream",
          "text": [
            "WARNING:tensorflow:From /usr/local/lib/python3.6/dist-packages/keras/backend/tensorflow_backend.py:66: The name tf.get_default_graph is deprecated. Please use tf.compat.v1.get_default_graph instead.\n",
            "\n",
            "WARNING:tensorflow:From /usr/local/lib/python3.6/dist-packages/keras/backend/tensorflow_backend.py:541: The name tf.placeholder is deprecated. Please use tf.compat.v1.placeholder instead.\n",
            "\n",
            "WARNING:tensorflow:From /usr/local/lib/python3.6/dist-packages/keras/backend/tensorflow_backend.py:4432: The name tf.random_uniform is deprecated. Please use tf.random.uniform instead.\n",
            "\n",
            "Model: \"sequential_1\"\n",
            "_________________________________________________________________\n",
            "Layer (type)                 Output Shape              Param #   \n",
            "=================================================================\n",
            "embedding_1 (Embedding)      (None, 100, 100)          1000000   \n",
            "_________________________________________________________________\n",
            "flatten_1 (Flatten)          (None, 10000)             0         \n",
            "_________________________________________________________________\n",
            "dense_1 (Dense)              (None, 32)                320032    \n",
            "_________________________________________________________________\n",
            "dense_2 (Dense)              (None, 1)                 33        \n",
            "=================================================================\n",
            "Total params: 1,320,065\n",
            "Trainable params: 1,320,065\n",
            "Non-trainable params: 0\n",
            "_________________________________________________________________\n"
          ],
          "name": "stdout"
        }
      ]
    },
    {
      "cell_type": "code",
      "metadata": {
        "id": "bw0lHEj607Ge",
        "colab_type": "code",
        "colab": {
          "base_uri": "https://localhost:8080/",
          "height": 241
        },
        "outputId": "76f75e01-1f25-4a6a-e4e1-4073dbb29dd9"
      },
      "source": [
        "#Loading pretrained word embeddings into the Embedding layer\n",
        "model.layers[0].set_weights([embedding_matrix])\n",
        "model.layers[0].trainable = False"
      ],
      "execution_count": 14,
      "outputs": [
        {
          "output_type": "stream",
          "text": [
            "WARNING:tensorflow:From /usr/local/lib/python3.6/dist-packages/keras/backend/tensorflow_backend.py:190: The name tf.get_default_session is deprecated. Please use tf.compat.v1.get_default_session instead.\n",
            "\n",
            "WARNING:tensorflow:From /usr/local/lib/python3.6/dist-packages/keras/backend/tensorflow_backend.py:197: The name tf.ConfigProto is deprecated. Please use tf.compat.v1.ConfigProto instead.\n",
            "\n",
            "WARNING:tensorflow:From /usr/local/lib/python3.6/dist-packages/keras/backend/tensorflow_backend.py:203: The name tf.Session is deprecated. Please use tf.compat.v1.Session instead.\n",
            "\n",
            "WARNING:tensorflow:From /usr/local/lib/python3.6/dist-packages/keras/backend/tensorflow_backend.py:207: The name tf.global_variables is deprecated. Please use tf.compat.v1.global_variables instead.\n",
            "\n",
            "WARNING:tensorflow:From /usr/local/lib/python3.6/dist-packages/keras/backend/tensorflow_backend.py:216: The name tf.is_variable_initialized is deprecated. Please use tf.compat.v1.is_variable_initialized instead.\n",
            "\n",
            "WARNING:tensorflow:From /usr/local/lib/python3.6/dist-packages/keras/backend/tensorflow_backend.py:223: The name tf.variables_initializer is deprecated. Please use tf.compat.v1.variables_initializer instead.\n",
            "\n"
          ],
          "name": "stdout"
        }
      ]
    },
    {
      "cell_type": "code",
      "metadata": {
        "id": "4R-8UAap1BPm",
        "colab_type": "code",
        "colab": {
          "base_uri": "https://localhost:8080/",
          "height": 1000
        },
        "outputId": "e49b7ff4-fb5b-48af-97d1-dd27d36069c5"
      },
      "source": [
        "#Training and evaluation\n",
        "\n",
        "model.compile(optimizer='rmsprop',loss='binary_crossentropy',metrics=['acc'])\n",
        "history = model.fit(x_train, y_train,\n",
        "epochs=50,\n",
        "batch_size=32,\n",
        "validation_data=(x_val, y_val))\n",
        "model.save_weights('pre_trained_glove_model.h5')"
      ],
      "execution_count": 15,
      "outputs": [
        {
          "output_type": "stream",
          "text": [
            "WARNING:tensorflow:From /usr/local/lib/python3.6/dist-packages/keras/optimizers.py:793: The name tf.train.Optimizer is deprecated. Please use tf.compat.v1.train.Optimizer instead.\n",
            "\n",
            "WARNING:tensorflow:From /usr/local/lib/python3.6/dist-packages/keras/backend/tensorflow_backend.py:3657: The name tf.log is deprecated. Please use tf.math.log instead.\n",
            "\n",
            "WARNING:tensorflow:From /usr/local/lib/python3.6/dist-packages/tensorflow_core/python/ops/nn_impl.py:183: where (from tensorflow.python.ops.array_ops) is deprecated and will be removed in a future version.\n",
            "Instructions for updating:\n",
            "Use tf.where in 2.0, which has the same broadcast rule as np.where\n",
            "WARNING:tensorflow:From /usr/local/lib/python3.6/dist-packages/keras/backend/tensorflow_backend.py:1033: The name tf.assign_add is deprecated. Please use tf.compat.v1.assign_add instead.\n",
            "\n",
            "WARNING:tensorflow:From /usr/local/lib/python3.6/dist-packages/keras/backend/tensorflow_backend.py:1020: The name tf.assign is deprecated. Please use tf.compat.v1.assign instead.\n",
            "\n",
            "Train on 8000 samples, validate on 10000 samples\n",
            "Epoch 1/50\n",
            "8000/8000 [==============================] - 3s 395us/step - loss: 0.7231 - acc: 0.5664 - val_loss: 0.6534 - val_acc: 0.6435\n",
            "Epoch 2/50\n",
            "8000/8000 [==============================] - 1s 159us/step - loss: 0.5920 - acc: 0.6941 - val_loss: 0.6683 - val_acc: 0.6099\n",
            "Epoch 3/50\n",
            "8000/8000 [==============================] - 1s 156us/step - loss: 0.4995 - acc: 0.7614 - val_loss: 0.6036 - val_acc: 0.6796\n",
            "Epoch 4/50\n",
            "8000/8000 [==============================] - 1s 160us/step - loss: 0.4181 - acc: 0.8161 - val_loss: 0.9890 - val_acc: 0.5969\n",
            "Epoch 5/50\n",
            "8000/8000 [==============================] - 1s 156us/step - loss: 0.3666 - acc: 0.8390 - val_loss: 0.7186 - val_acc: 0.6740\n",
            "Epoch 6/50\n",
            "8000/8000 [==============================] - 1s 165us/step - loss: 0.3049 - acc: 0.8707 - val_loss: 0.6520 - val_acc: 0.6990\n",
            "Epoch 7/50\n",
            "8000/8000 [==============================] - 1s 162us/step - loss: 0.2559 - acc: 0.8939 - val_loss: 1.0111 - val_acc: 0.6355\n",
            "Epoch 8/50\n",
            "8000/8000 [==============================] - 1s 160us/step - loss: 0.2005 - acc: 0.9240 - val_loss: 0.8337 - val_acc: 0.6812\n",
            "Epoch 9/50\n",
            "8000/8000 [==============================] - 1s 162us/step - loss: 0.1634 - acc: 0.9392 - val_loss: 0.8171 - val_acc: 0.6869\n",
            "Epoch 10/50\n",
            "8000/8000 [==============================] - 1s 154us/step - loss: 0.1155 - acc: 0.9624 - val_loss: 0.9565 - val_acc: 0.6821\n",
            "Epoch 11/50\n",
            "8000/8000 [==============================] - 1s 156us/step - loss: 0.0906 - acc: 0.9699 - val_loss: 1.0311 - val_acc: 0.6830\n",
            "Epoch 12/50\n",
            "8000/8000 [==============================] - 1s 169us/step - loss: 0.0665 - acc: 0.9793 - val_loss: 1.1514 - val_acc: 0.6855\n",
            "Epoch 13/50\n",
            "8000/8000 [==============================] - 1s 164us/step - loss: 0.0535 - acc: 0.9835 - val_loss: 1.2181 - val_acc: 0.6841\n",
            "Epoch 14/50\n",
            "8000/8000 [==============================] - 1s 157us/step - loss: 0.0391 - acc: 0.9882 - val_loss: 1.3756 - val_acc: 0.6827\n",
            "Epoch 15/50\n",
            "8000/8000 [==============================] - 1s 158us/step - loss: 0.0417 - acc: 0.9866 - val_loss: 1.4282 - val_acc: 0.6785\n",
            "Epoch 16/50\n",
            "8000/8000 [==============================] - 1s 164us/step - loss: 0.0311 - acc: 0.9897 - val_loss: 1.4317 - val_acc: 0.6819\n",
            "Epoch 17/50\n",
            "8000/8000 [==============================] - 1s 155us/step - loss: 0.0201 - acc: 0.9929 - val_loss: 1.5572 - val_acc: 0.6821\n",
            "Epoch 18/50\n",
            "8000/8000 [==============================] - 1s 160us/step - loss: 0.0243 - acc: 0.9918 - val_loss: 1.5460 - val_acc: 0.6813\n",
            "Epoch 19/50\n",
            "8000/8000 [==============================] - 1s 163us/step - loss: 0.0163 - acc: 0.9940 - val_loss: 2.4087 - val_acc: 0.6435\n",
            "Epoch 20/50\n",
            "8000/8000 [==============================] - 1s 158us/step - loss: 0.0145 - acc: 0.9949 - val_loss: 1.6215 - val_acc: 0.6790\n",
            "Epoch 21/50\n",
            "8000/8000 [==============================] - 1s 163us/step - loss: 0.0163 - acc: 0.9949 - val_loss: 1.7305 - val_acc: 0.6809\n",
            "Epoch 22/50\n",
            "8000/8000 [==============================] - 1s 158us/step - loss: 0.0177 - acc: 0.9941 - val_loss: 1.7953 - val_acc: 0.6809\n",
            "Epoch 23/50\n",
            "8000/8000 [==============================] - 1s 154us/step - loss: 0.0136 - acc: 0.9950 - val_loss: 1.8614 - val_acc: 0.6811\n",
            "Epoch 24/50\n",
            "8000/8000 [==============================] - 1s 154us/step - loss: 0.0182 - acc: 0.9941 - val_loss: 1.7392 - val_acc: 0.6737\n",
            "Epoch 25/50\n",
            "8000/8000 [==============================] - 1s 154us/step - loss: 0.0091 - acc: 0.9967 - val_loss: 1.9829 - val_acc: 0.6817\n",
            "Epoch 26/50\n",
            "8000/8000 [==============================] - 1s 170us/step - loss: 0.0075 - acc: 0.9969 - val_loss: 2.7381 - val_acc: 0.6388\n",
            "Epoch 27/50\n",
            "8000/8000 [==============================] - 1s 157us/step - loss: 0.0162 - acc: 0.9952 - val_loss: 2.0631 - val_acc: 0.6805\n",
            "Epoch 28/50\n",
            "8000/8000 [==============================] - 1s 157us/step - loss: 0.0181 - acc: 0.9948 - val_loss: 2.0715 - val_acc: 0.6776\n",
            "Epoch 29/50\n",
            "8000/8000 [==============================] - 1s 152us/step - loss: 0.0131 - acc: 0.9969 - val_loss: 2.1105 - val_acc: 0.6769\n",
            "Epoch 30/50\n",
            "8000/8000 [==============================] - 1s 158us/step - loss: 0.0132 - acc: 0.9961 - val_loss: 2.1231 - val_acc: 0.6782\n",
            "Epoch 31/50\n",
            "8000/8000 [==============================] - 1s 152us/step - loss: 0.0078 - acc: 0.9971 - val_loss: 2.2109 - val_acc: 0.6776\n",
            "Epoch 32/50\n",
            "8000/8000 [==============================] - 1s 161us/step - loss: 0.0118 - acc: 0.9970 - val_loss: 2.3073 - val_acc: 0.6768\n",
            "Epoch 33/50\n",
            "8000/8000 [==============================] - 1s 156us/step - loss: 0.0139 - acc: 0.9971 - val_loss: 2.1354 - val_acc: 0.6778\n",
            "Epoch 34/50\n",
            "8000/8000 [==============================] - 1s 153us/step - loss: 0.0083 - acc: 0.9976 - val_loss: 2.2625 - val_acc: 0.6776\n",
            "Epoch 35/50\n",
            "8000/8000 [==============================] - 1s 160us/step - loss: 0.0059 - acc: 0.9978 - val_loss: 2.2593 - val_acc: 0.6778\n",
            "Epoch 36/50\n",
            "8000/8000 [==============================] - 1s 156us/step - loss: 0.0071 - acc: 0.9978 - val_loss: 2.3492 - val_acc: 0.6757\n",
            "Epoch 37/50\n",
            "8000/8000 [==============================] - 1s 160us/step - loss: 0.0053 - acc: 0.9983 - val_loss: 2.4081 - val_acc: 0.6760\n",
            "Epoch 38/50\n",
            "8000/8000 [==============================] - 1s 157us/step - loss: 0.0063 - acc: 0.9975 - val_loss: 2.3736 - val_acc: 0.6798\n",
            "Epoch 39/50\n",
            "8000/8000 [==============================] - 1s 151us/step - loss: 0.0054 - acc: 0.9986 - val_loss: 2.3575 - val_acc: 0.6786\n",
            "Epoch 40/50\n",
            "8000/8000 [==============================] - 1s 155us/step - loss: 0.0111 - acc: 0.9965 - val_loss: 2.4041 - val_acc: 0.6785\n",
            "Epoch 41/50\n",
            "8000/8000 [==============================] - 1s 151us/step - loss: 0.0085 - acc: 0.9981 - val_loss: 2.4250 - val_acc: 0.6798\n",
            "Epoch 42/50\n",
            "8000/8000 [==============================] - 1s 159us/step - loss: 0.0087 - acc: 0.9974 - val_loss: 2.4572 - val_acc: 0.6721\n",
            "Epoch 43/50\n",
            "8000/8000 [==============================] - 1s 154us/step - loss: 0.0022 - acc: 0.9991 - val_loss: 2.5340 - val_acc: 0.6797\n",
            "Epoch 44/50\n",
            "8000/8000 [==============================] - 1s 160us/step - loss: 0.0026 - acc: 0.9988 - val_loss: 2.5115 - val_acc: 0.6762\n",
            "Epoch 45/50\n",
            "8000/8000 [==============================] - 1s 154us/step - loss: 0.0061 - acc: 0.9981 - val_loss: 2.5552 - val_acc: 0.6745\n",
            "Epoch 46/50\n",
            "8000/8000 [==============================] - 1s 154us/step - loss: 0.0092 - acc: 0.9978 - val_loss: 2.4980 - val_acc: 0.6691\n",
            "Epoch 47/50\n",
            "8000/8000 [==============================] - 1s 167us/step - loss: 0.0068 - acc: 0.9983 - val_loss: 2.5659 - val_acc: 0.6746\n",
            "Epoch 48/50\n",
            "8000/8000 [==============================] - 1s 157us/step - loss: 7.5630e-04 - acc: 0.9998 - val_loss: 2.5302 - val_acc: 0.6772\n",
            "Epoch 49/50\n",
            "8000/8000 [==============================] - 1s 161us/step - loss: 0.0069 - acc: 0.9978 - val_loss: 2.6886 - val_acc: 0.6763\n",
            "Epoch 50/50\n",
            "8000/8000 [==============================] - 1s 160us/step - loss: 0.0046 - acc: 0.9984 - val_loss: 2.5060 - val_acc: 0.6736\n"
          ],
          "name": "stdout"
        }
      ]
    },
    {
      "cell_type": "code",
      "metadata": {
        "id": "uvuKQbGh1PQ8",
        "colab_type": "code",
        "colab": {
          "base_uri": "https://localhost:8080/",
          "height": 545
        },
        "outputId": "7c222f5d-7d9b-425d-8268-30c1dd8128d4"
      },
      "source": [
        "#Plotting the results\n",
        "import matplotlib.pyplot as plt\n",
        "acc = history.history['acc']\n",
        "val_acc = history.history['val_acc']\n",
        "loss = history.history['loss']\n",
        "val_loss = history.history['val_loss']\n",
        "epochs = range(1, len(acc) + 1)\n",
        "plt.plot(epochs, acc, 'bo', label='Training acc')\n",
        "plt.plot(epochs, val_acc, 'b', label='Validation acc')\n",
        "plt.title('Training and validation accuracy')\n",
        "plt.legend()\n",
        "plt.figure()\n",
        "plt.plot(epochs, loss, 'bo', label='Training loss')\n",
        "plt.plot(epochs, val_loss, 'b', label='Validation loss')\n",
        "plt.title('Training and validation loss')\n",
        "plt.legend()\n",
        "plt.show()"
      ],
      "execution_count": 16,
      "outputs": [
        {
          "output_type": "display_data",
          "data": {
            "image/png": "[encoded data removed]",
            "text/plain": [
              "<Figure size 432x288 with 1 Axes>"
            ]
          },
          "metadata": {
            "tags": []
          }
        },
        {
          "output_type": "display_data",
          "data": {
            "image/png": "[encoded data removed]",
            "text/plain": [
              "<Figure size 432x288 with 1 Axes>"
            ]
          },
          "metadata": {
            "tags": []
          }
        }
      ]
    }
  ]
}